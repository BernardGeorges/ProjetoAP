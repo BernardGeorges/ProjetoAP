{
 "cells": [
  {
   "cell_type": "markdown",
   "metadata": {},
   "source": [
    "## Compare with model results and interpretability from DeepMol"
   ]
  },
  {
   "cell_type": "markdown",
   "metadata": {},
   "source": [
    "Load the dataset from a CSV"
   ]
  },
  {
   "cell_type": "code",
   "execution_count": 7,
   "metadata": {},
   "outputs": [],
   "source": [
    "from deepmol.loaders.loaders import CSVLoader\n",
    "import pandas as pd\n",
    "\n",
    "ds = pd.read_csv('data/tox21.csv')\n",
    "ds.dropna(subset=['SR-p53'],inplace=True)\n",
    "ds.fillna(0, inplace=True)\n",
    "ds.drop('mol_id', axis=1, inplace=True)\n",
    "\n",
    "ds.to_csv(\"data/deepmol_dataset.csv\", sep=',', index=True,index_label=\"id\", encoding='utf-8')\n",
    "\n",
    "loader = CSVLoader(dataset_path='data/deepmol_dataset.csv',\n",
    "                   smiles_field='smiles',\n",
    "                   id_field='id',\n",
    "                   labels_fields=['SR-p53'],\n",
    "                   features_fields=['NR-AR','NR-AR-LBD','NR-AhR','NR-Aromatase','NR-ER','NR-ER-LBD','NR-PPAR-gamma','SR-ARE','SR-ATAD5','SR-HSE','SR-MMP'],\n",
    "                   shard_size=1000,\n",
    "                   mode='auto')"
   ]
  },
  {
   "cell_type": "code",
   "execution_count": 8,
   "metadata": {},
   "outputs": [
    {
     "name": "stdout",
     "output_type": "stream",
     "text": [
      "2024-05-06 23:20:55,522 — INFO — Assuming classification since there are less than 10 unique y values. If otherwise, explicitly set the mode to 'regression'!\n",
      "2024-05-06 23:20:55,535 — INFO — Mols_shape: (1000,)\n",
      "2024-05-06 23:20:55,537 — INFO — Features_shape: (1000, 11)\n",
      "2024-05-06 23:20:55,538 — INFO — Labels_shape: (1000,)\n"
     ]
    },
    {
     "data": {
      "text/plain": [
       "((1000,), (1000, 11), (1000,))"
      ]
     },
     "execution_count": 8,
     "metadata": {},
     "output_type": "execute_result"
    }
   ],
   "source": [
    "dataset = loader.create_dataset()\n",
    "dataset.get_shape()"
   ]
  }
 ],
 "metadata": {
  "language_info": {
   "name": "python"
  }
 },
 "nbformat": 4,
 "nbformat_minor": 2
}
