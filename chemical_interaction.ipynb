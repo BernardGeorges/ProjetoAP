{
 "cells": [
  {
   "cell_type": "markdown",
   "metadata": {},
   "source": [
    "## Classificação de compostos químicos e métodos de interpretabilidade\n",
    "\n",
    "Objetivo : classificação de compostos químicos baseada na sua capacidade de interagir com a proteína p53 (elemento importante na prevenção do desenvolvimento de tumores)\n",
    "Dataset: TOX21\n",
    "\n",
    "<b>NR-AR, NR-ER, NR-AhR, NR-PPAR-gamma</b>: Esses atributos rep-\n",
    "resentam a atividade de receptores nucleares, como o receptor de andrógeno\n",
    "(AR), estrogênio (ER), hidrocarboneto aromático (AhR) e receptor ativado\n",
    "por proliferadores de peroxissoma-gama (PPAR-gama). Esses receptores es-\n",
    "tão envolvidos em diversos processos celulares, incluindo crescimento celular,\n",
    "diferenciação e apoptose, os quais também são regulados pela proteína p53.\n",
    "Compostos que modulam a atividade desses receptores podem afetar indire-\n",
    "tamente as vias mediadas por p53\n",
    "\n",
    "<b>NR-Aromatase</b>: Aromatase é uma enzima envolvida na biossíntese de es-\n",
    "trogênio. Os receptores de estrogênio (ERs) desempenham um papel na\n",
    "regulação da expressão e atividade da p53. Compostos que influenciam a\n",
    "atividade da aromatase podem impactar os níveis de estrogênio, afetando\n",
    "potencialmente as respostas mediadas por p53.\n",
    "\n",
    "<b>SR-p53</b>: Este atributo representa a atividade da própria proteína p53.\n",
    "\n",
    "<b>SR-ARE</b>, SR-ATAD5, SR-HSE, SR-MMP: Esses atributos representam a atividade de receptores xenobióticos ou vias moleculares relacionadas\n",
    "à resposta celular ao estresse, reparo de DNA e metaloproteinases da matriz.\n",
    "Embora essas vias possam não interagir diretamente com a p53, elas podem\n",
    "se intersectar com as vias mediadas por p53, influenciando as respostas celu-\n",
    "lares ao estresse, danos ao DNA e tumorigênese.\n",
    "\n",
    "<b>mol_id</b>: Este atributo representa um identificador único atribuído a cada\n",
    "composto no conjunto de dados. Ele serve como uma referência ou chave para\n",
    "distinguir um composto de outro dentro do conjunto de dados. O mol_id não\n",
    "fornece informações sobre a atividade biológica do composto, mas é essencial\n",
    "para a organização e gestão dos dados.\n",
    "\n",
    "<b>smiles</b>: SMILES significa Simplified Molecular Input Line Entry System, que\n",
    "é um sistema de notação usado para representar a estrutura de moléculas\n",
    "químicas como strings de texto. As strings SMILES codificam o arranjo\n",
    "de átomos e ligações em uma molécula, fornecendo uma forma compacta e\n",
    "padronizada de descrever estruturas químicas"
   ]
  },
  {
   "cell_type": "code",
   "execution_count": 42,
   "metadata": {},
   "outputs": [],
   "source": [
    "import torch\n",
    "import pandas as pd\n",
    "import seaborn as sns\n",
    "import matplotlib.pyplot as plt\n",
    "from rdkit import Chem\n",
    "from rdkit.Chem import Draw"
   ]
  },
  {
   "cell_type": "code",
   "execution_count": 43,
   "metadata": {},
   "outputs": [],
   "source": [
    "ds = pd.read_csv('tox21.csv')"
   ]
  },
  {
   "cell_type": "markdown",
   "metadata": {},
   "source": [
    "**Data Pre-processing**"
   ]
  },
  {
   "cell_type": "code",
   "execution_count": 44,
   "metadata": {},
   "outputs": [
    {
     "data": {
      "text/html": [
       "<div>\n",
       "<style scoped>\n",
       "    .dataframe tbody tr th:only-of-type {\n",
       "        vertical-align: middle;\n",
       "    }\n",
       "\n",
       "    .dataframe tbody tr th {\n",
       "        vertical-align: top;\n",
       "    }\n",
       "\n",
       "    .dataframe thead th {\n",
       "        text-align: right;\n",
       "    }\n",
       "</style>\n",
       "<table border=\"1\" class=\"dataframe\">\n",
       "  <thead>\n",
       "    <tr style=\"text-align: right;\">\n",
       "      <th></th>\n",
       "      <th>NR-AR</th>\n",
       "      <th>NR-AR-LBD</th>\n",
       "      <th>NR-AhR</th>\n",
       "      <th>NR-Aromatase</th>\n",
       "      <th>NR-ER</th>\n",
       "      <th>NR-ER-LBD</th>\n",
       "      <th>NR-PPAR-gamma</th>\n",
       "      <th>SR-ARE</th>\n",
       "      <th>SR-ATAD5</th>\n",
       "      <th>SR-HSE</th>\n",
       "      <th>SR-MMP</th>\n",
       "      <th>SR-p53</th>\n",
       "      <th>mol_id</th>\n",
       "      <th>smiles</th>\n",
       "    </tr>\n",
       "  </thead>\n",
       "  <tbody>\n",
       "    <tr>\n",
       "      <th>0</th>\n",
       "      <td>0.0</td>\n",
       "      <td>0.0</td>\n",
       "      <td>1.0</td>\n",
       "      <td>NaN</td>\n",
       "      <td>NaN</td>\n",
       "      <td>0.0</td>\n",
       "      <td>0.0</td>\n",
       "      <td>1.0</td>\n",
       "      <td>0.0</td>\n",
       "      <td>0.0</td>\n",
       "      <td>0.0</td>\n",
       "      <td>0.0</td>\n",
       "      <td>TOX3021</td>\n",
       "      <td>CCOc1ccc2nc(S(N)(=O)=O)sc2c1</td>\n",
       "    </tr>\n",
       "    <tr>\n",
       "      <th>1</th>\n",
       "      <td>0.0</td>\n",
       "      <td>0.0</td>\n",
       "      <td>0.0</td>\n",
       "      <td>0.0</td>\n",
       "      <td>0.0</td>\n",
       "      <td>0.0</td>\n",
       "      <td>0.0</td>\n",
       "      <td>NaN</td>\n",
       "      <td>0.0</td>\n",
       "      <td>NaN</td>\n",
       "      <td>0.0</td>\n",
       "      <td>0.0</td>\n",
       "      <td>TOX3020</td>\n",
       "      <td>CCN1C(=O)NC(c2ccccc2)C1=O</td>\n",
       "    </tr>\n",
       "    <tr>\n",
       "      <th>2</th>\n",
       "      <td>NaN</td>\n",
       "      <td>NaN</td>\n",
       "      <td>NaN</td>\n",
       "      <td>NaN</td>\n",
       "      <td>NaN</td>\n",
       "      <td>NaN</td>\n",
       "      <td>NaN</td>\n",
       "      <td>0.0</td>\n",
       "      <td>NaN</td>\n",
       "      <td>0.0</td>\n",
       "      <td>NaN</td>\n",
       "      <td>NaN</td>\n",
       "      <td>TOX3024</td>\n",
       "      <td>CC[C@]1(O)CC[C@H]2[C@@H]3CCC4=CCCC[C@@H]4[C@H]...</td>\n",
       "    </tr>\n",
       "    <tr>\n",
       "      <th>3</th>\n",
       "      <td>0.0</td>\n",
       "      <td>0.0</td>\n",
       "      <td>0.0</td>\n",
       "      <td>0.0</td>\n",
       "      <td>0.0</td>\n",
       "      <td>0.0</td>\n",
       "      <td>0.0</td>\n",
       "      <td>NaN</td>\n",
       "      <td>0.0</td>\n",
       "      <td>NaN</td>\n",
       "      <td>0.0</td>\n",
       "      <td>0.0</td>\n",
       "      <td>TOX3027</td>\n",
       "      <td>CCCN(CC)C(CC)C(=O)Nc1c(C)cccc1C</td>\n",
       "    </tr>\n",
       "    <tr>\n",
       "      <th>4</th>\n",
       "      <td>0.0</td>\n",
       "      <td>0.0</td>\n",
       "      <td>0.0</td>\n",
       "      <td>0.0</td>\n",
       "      <td>0.0</td>\n",
       "      <td>0.0</td>\n",
       "      <td>0.0</td>\n",
       "      <td>0.0</td>\n",
       "      <td>0.0</td>\n",
       "      <td>0.0</td>\n",
       "      <td>0.0</td>\n",
       "      <td>0.0</td>\n",
       "      <td>TOX20800</td>\n",
       "      <td>CC(O)(P(=O)(O)O)P(=O)(O)O</td>\n",
       "    </tr>\n",
       "  </tbody>\n",
       "</table>\n",
       "</div>"
      ],
      "text/plain": [
       "   NR-AR  NR-AR-LBD  NR-AhR  NR-Aromatase  NR-ER  NR-ER-LBD  NR-PPAR-gamma  \\\n",
       "0    0.0        0.0     1.0           NaN    NaN        0.0            0.0   \n",
       "1    0.0        0.0     0.0           0.0    0.0        0.0            0.0   \n",
       "2    NaN        NaN     NaN           NaN    NaN        NaN            NaN   \n",
       "3    0.0        0.0     0.0           0.0    0.0        0.0            0.0   \n",
       "4    0.0        0.0     0.0           0.0    0.0        0.0            0.0   \n",
       "\n",
       "   SR-ARE  SR-ATAD5  SR-HSE  SR-MMP  SR-p53    mol_id  \\\n",
       "0     1.0       0.0     0.0     0.0     0.0   TOX3021   \n",
       "1     NaN       0.0     NaN     0.0     0.0   TOX3020   \n",
       "2     0.0       NaN     0.0     NaN     NaN   TOX3024   \n",
       "3     NaN       0.0     NaN     0.0     0.0   TOX3027   \n",
       "4     0.0       0.0     0.0     0.0     0.0  TOX20800   \n",
       "\n",
       "                                              smiles  \n",
       "0                       CCOc1ccc2nc(S(N)(=O)=O)sc2c1  \n",
       "1                          CCN1C(=O)NC(c2ccccc2)C1=O  \n",
       "2  CC[C@]1(O)CC[C@H]2[C@@H]3CCC4=CCCC[C@@H]4[C@H]...  \n",
       "3                    CCCN(CC)C(CC)C(=O)Nc1c(C)cccc1C  \n",
       "4                          CC(O)(P(=O)(O)O)P(=O)(O)O  "
      ]
     },
     "execution_count": 44,
     "metadata": {},
     "output_type": "execute_result"
    }
   ],
   "source": [
    "ds.head()"
   ]
  },
  {
   "cell_type": "code",
   "execution_count": 45,
   "metadata": {},
   "outputs": [
    {
     "data": {
      "text/plain": [
       "(7831, 14)"
      ]
     },
     "execution_count": 45,
     "metadata": {},
     "output_type": "execute_result"
    }
   ],
   "source": [
    "ds.shape"
   ]
  },
  {
   "cell_type": "code",
   "execution_count": 46,
   "metadata": {},
   "outputs": [
    {
     "data": {
      "text/plain": [
       "NR-AR             566\n",
       "NR-AR-LBD        1073\n",
       "NR-AhR           1282\n",
       "NR-Aromatase     2010\n",
       "NR-ER            1638\n",
       "NR-ER-LBD         876\n",
       "NR-PPAR-gamma    1381\n",
       "SR-ARE           1999\n",
       "SR-ATAD5          759\n",
       "SR-HSE           1364\n",
       "SR-MMP           2021\n",
       "SR-p53           1057\n",
       "mol_id              0\n",
       "smiles              0\n",
       "dtype: int64"
      ]
     },
     "execution_count": 46,
     "metadata": {},
     "output_type": "execute_result"
    }
   ],
   "source": [
    "ds.isnull().sum()"
   ]
  },
  {
   "cell_type": "markdown",
   "metadata": {},
   "source": [
    "Como visto acima é notavel que este dataset contém uma quantidade substancial de valores nulos. Sendo assim, o grupo enfrenta o dilema de como tratar destes valores. Considerando que estes valores são representativos da presença de um certo recetor num composto quimico é possivel assumir que a falta de representação pode significar a falta deste recetor sendo assim possivel substituir o valor nulo por um 0. "
   ]
  },
  {
   "cell_type": "code",
   "execution_count": 47,
   "metadata": {},
   "outputs": [
    {
     "data": {
      "text/plain": [
       "NR-AR            0\n",
       "NR-AR-LBD        0\n",
       "NR-AhR           0\n",
       "NR-Aromatase     0\n",
       "NR-ER            0\n",
       "NR-ER-LBD        0\n",
       "NR-PPAR-gamma    0\n",
       "SR-ARE           0\n",
       "SR-ATAD5         0\n",
       "SR-HSE           0\n",
       "SR-MMP           0\n",
       "SR-p53           0\n",
       "mol_id           0\n",
       "smiles           0\n",
       "dtype: int64"
      ]
     },
     "execution_count": 47,
     "metadata": {},
     "output_type": "execute_result"
    }
   ],
   "source": [
    "ds.fillna(0, inplace=True)\n",
    "ds.isnull().sum()"
   ]
  },
  {
   "cell_type": "markdown",
   "metadata": {},
   "source": [
    "A coluna mol_id representa um id usado pela comunidade cientifica para o reconhecimento de um composto quimico por isso não sendo relevante nesta pesquisa. "
   ]
  },
  {
   "cell_type": "code",
   "execution_count": 48,
   "metadata": {},
   "outputs": [
    {
     "name": "stdout",
     "output_type": "stream",
     "text": [
      "0\n"
     ]
    }
   ],
   "source": [
    "print(ds['mol_id'].duplicated().sum())"
   ]
  },
  {
   "cell_type": "code",
   "execution_count": 49,
   "metadata": {},
   "outputs": [],
   "source": [
    "ds.drop('mol_id', axis=1, inplace=True)"
   ]
  },
  {
   "cell_type": "code",
   "execution_count": 50,
   "metadata": {},
   "outputs": [
    {
     "data": {
      "text/plain": [
       "'ds1 = ds.drop([\\'smiles\\'], axis=1)\\ncorrelation = ds1.corr()\\nplt.figure(figsize=(8, 6))\\nsns.heatmap(correlation, annot=True, cmap=\\'coolwarm\\', fmt=\".2f\", linewidths=.5)\\nplt.title(\\'Correlation Matrix\\')\\nplt.show()'"
      ]
     },
     "execution_count": 50,
     "metadata": {},
     "output_type": "execute_result"
    }
   ],
   "source": [
    "ds1 = ds.drop(['smiles'], axis=1)\n",
    "correlation = ds1.corr()\n",
    "plt.figure(figsize=(8, 6))\n",
    "sns.heatmap(correlation, annot=True, cmap='coolwarm', fmt=\".2f\", linewidths=.5)\n",
    "plt.title('Correlation Matrix')\n",
    "plt.show()"
   ]
  },
  {
   "cell_type": "code",
   "execution_count": 51,
   "metadata": {},
   "outputs": [
    {
     "name": "stderr",
     "output_type": "stream",
     "text": [
      "[14:46:18] WARNING: not removing hydrogen atom without neighbors\n"
     ]
    }
   ],
   "source": [
    "mols = pd.DataFrame()\n",
    "mols[\"smiles\"] = ds['smiles'].apply(Chem.MolFromSmiles)"
   ]
  },
  {
   "cell_type": "code",
   "execution_count": 52,
   "metadata": {},
   "outputs": [
    {
     "data": {
      "image/png": "[encoded data removed]",
      "text/plain": [
       "<IPython.core.display.Image object>"
      ]
     },
     "execution_count": 52,
     "metadata": {},
     "output_type": "execute_result"
    }
   ],
   "source": [
    "Draw.MolsToGridImage(mols['smiles'][:10],molsPerRow=5,subImgSize=(200,200),legends=[Chem.MolToSmiles(x) for x in mols['smiles'][:10]])"
   ]
  },
  {
   "cell_type": "code",
   "execution_count": 53,
   "metadata": {},
   "outputs": [
    {
     "data": {
      "text/html": [
       "<div>\n",
       "<style scoped>\n",
       "    .dataframe tbody tr th:only-of-type {\n",
       "        vertical-align: middle;\n",
       "    }\n",
       "\n",
       "    .dataframe tbody tr th {\n",
       "        vertical-align: top;\n",
       "    }\n",
       "\n",
       "    .dataframe thead th {\n",
       "        text-align: right;\n",
       "    }\n",
       "</style>\n",
       "<table border=\"1\" class=\"dataframe\">\n",
       "  <thead>\n",
       "    <tr style=\"text-align: right;\">\n",
       "      <th></th>\n",
       "      <th>NR-AR</th>\n",
       "      <th>NR-AR-LBD</th>\n",
       "      <th>NR-AhR</th>\n",
       "      <th>NR-Aromatase</th>\n",
       "      <th>NR-ER</th>\n",
       "      <th>NR-ER-LBD</th>\n",
       "      <th>NR-PPAR-gamma</th>\n",
       "      <th>SR-ARE</th>\n",
       "      <th>SR-ATAD5</th>\n",
       "      <th>SR-HSE</th>\n",
       "      <th>SR-MMP</th>\n",
       "      <th>SR-p53</th>\n",
       "      <th>smiles</th>\n",
       "    </tr>\n",
       "  </thead>\n",
       "  <tbody>\n",
       "    <tr>\n",
       "      <th>0</th>\n",
       "      <td>0.0</td>\n",
       "      <td>0.0</td>\n",
       "      <td>1.0</td>\n",
       "      <td>0.0</td>\n",
       "      <td>0.0</td>\n",
       "      <td>0.0</td>\n",
       "      <td>0.0</td>\n",
       "      <td>1.0</td>\n",
       "      <td>0.0</td>\n",
       "      <td>0.0</td>\n",
       "      <td>0.0</td>\n",
       "      <td>0.0</td>\n",
       "      <td>CCOc1ccc2nc(S(N)(=O)=O)sc2c1</td>\n",
       "    </tr>\n",
       "    <tr>\n",
       "      <th>1</th>\n",
       "      <td>0.0</td>\n",
       "      <td>0.0</td>\n",
       "      <td>0.0</td>\n",
       "      <td>0.0</td>\n",
       "      <td>0.0</td>\n",
       "      <td>0.0</td>\n",
       "      <td>0.0</td>\n",
       "      <td>0.0</td>\n",
       "      <td>0.0</td>\n",
       "      <td>0.0</td>\n",
       "      <td>0.0</td>\n",
       "      <td>0.0</td>\n",
       "      <td>CCN1C(=O)NC(c2ccccc2)C1=O</td>\n",
       "    </tr>\n",
       "    <tr>\n",
       "      <th>2</th>\n",
       "      <td>0.0</td>\n",
       "      <td>0.0</td>\n",
       "      <td>0.0</td>\n",
       "      <td>0.0</td>\n",
       "      <td>0.0</td>\n",
       "      <td>0.0</td>\n",
       "      <td>0.0</td>\n",
       "      <td>0.0</td>\n",
       "      <td>0.0</td>\n",
       "      <td>0.0</td>\n",
       "      <td>0.0</td>\n",
       "      <td>0.0</td>\n",
       "      <td>CC[C@]1(O)CC[C@H]2[C@@H]3CCC4=CCCC[C@@H]4[C@H]...</td>\n",
       "    </tr>\n",
       "    <tr>\n",
       "      <th>3</th>\n",
       "      <td>0.0</td>\n",
       "      <td>0.0</td>\n",
       "      <td>0.0</td>\n",
       "      <td>0.0</td>\n",
       "      <td>0.0</td>\n",
       "      <td>0.0</td>\n",
       "      <td>0.0</td>\n",
       "      <td>0.0</td>\n",
       "      <td>0.0</td>\n",
       "      <td>0.0</td>\n",
       "      <td>0.0</td>\n",
       "      <td>0.0</td>\n",
       "      <td>CCCN(CC)C(CC)C(=O)Nc1c(C)cccc1C</td>\n",
       "    </tr>\n",
       "    <tr>\n",
       "      <th>4</th>\n",
       "      <td>0.0</td>\n",
       "      <td>0.0</td>\n",
       "      <td>0.0</td>\n",
       "      <td>0.0</td>\n",
       "      <td>0.0</td>\n",
       "      <td>0.0</td>\n",
       "      <td>0.0</td>\n",
       "      <td>0.0</td>\n",
       "      <td>0.0</td>\n",
       "      <td>0.0</td>\n",
       "      <td>0.0</td>\n",
       "      <td>0.0</td>\n",
       "      <td>CC(O)(P(=O)(O)O)P(=O)(O)O</td>\n",
       "    </tr>\n",
       "  </tbody>\n",
       "</table>\n",
       "</div>"
      ],
      "text/plain": [
       "   NR-AR  NR-AR-LBD  NR-AhR  NR-Aromatase  NR-ER  NR-ER-LBD  NR-PPAR-gamma  \\\n",
       "0    0.0        0.0     1.0           0.0    0.0        0.0            0.0   \n",
       "1    0.0        0.0     0.0           0.0    0.0        0.0            0.0   \n",
       "2    0.0        0.0     0.0           0.0    0.0        0.0            0.0   \n",
       "3    0.0        0.0     0.0           0.0    0.0        0.0            0.0   \n",
       "4    0.0        0.0     0.0           0.0    0.0        0.0            0.0   \n",
       "\n",
       "   SR-ARE  SR-ATAD5  SR-HSE  SR-MMP  SR-p53  \\\n",
       "0     1.0       0.0     0.0     0.0     0.0   \n",
       "1     0.0       0.0     0.0     0.0     0.0   \n",
       "2     0.0       0.0     0.0     0.0     0.0   \n",
       "3     0.0       0.0     0.0     0.0     0.0   \n",
       "4     0.0       0.0     0.0     0.0     0.0   \n",
       "\n",
       "                                              smiles  \n",
       "0                       CCOc1ccc2nc(S(N)(=O)=O)sc2c1  \n",
       "1                          CCN1C(=O)NC(c2ccccc2)C1=O  \n",
       "2  CC[C@]1(O)CC[C@H]2[C@@H]3CCC4=CCCC[C@@H]4[C@H]...  \n",
       "3                    CCCN(CC)C(CC)C(=O)Nc1c(C)cccc1C  \n",
       "4                          CC(O)(P(=O)(O)O)P(=O)(O)O  "
      ]
     },
     "execution_count": 53,
     "metadata": {},
     "output_type": "execute_result"
    }
   ],
   "source": [
    "ds.head()"
   ]
  },
  {
   "cell_type": "code",
   "execution_count": 54,
   "metadata": {},
   "outputs": [],
   "source": [
    "def getAtrValue(atr,smiles):\n",
    "    return ds.loc[ds['smiles'] == smiles, atr].iloc[0]"
   ]
  },
  {
   "cell_type": "code",
   "execution_count": 55,
   "metadata": {},
   "outputs": [
    {
     "name": "stdout",
     "output_type": "stream",
     "text": [
      "Existem 423 compostos químicos reativos à SR-p53.\n",
      "Existem 7408 compostos químicos não reativos à SR-p53.\n"
     ]
    }
   ],
   "source": [
    "def notactive(n):\n",
    "    if(n==0.0): return True\n",
    "    else: return False\n",
    "\n",
    "def isactive(n):\n",
    "    if(n==1.0): return True\n",
    "    else: return False\n",
    "\n",
    "active = filter(isactive,ds['SR-p53'])\n",
    "inactive = filter(notactive,ds['SR-p53'])\n",
    "print(\"Existem \"+str(len(list(active)))+ \" compostos químicos reativos à SR-p53.\")\n",
    "print(\"Existem \"+str(len(list(inactive)))+ \" compostos químicos não reativos à SR-p53.\")"
   ]
  },
  {
   "cell_type": "markdown",
   "metadata": {},
   "source": [
    "**Get default device as CPU or cuda(GPU) based on availability**"
   ]
  },
  {
   "cell_type": "code",
   "execution_count": 56,
   "metadata": {},
   "outputs": [
    {
     "name": "stdout",
     "output_type": "stream",
     "text": [
      "Using device: cpu\n"
     ]
    }
   ],
   "source": [
    "#setting device on GPU if available, else CPU\n",
    "device = torch.device('cuda' if torch.cuda.is_available() else 'cpu')\n",
    "#Additional Info when using cuda\n",
    "if device.type == 'cuda':\n",
    "    print(torch.cuda.get_device_name(0))\n",
    "    print('Memory Usage:')\n",
    "    print('Allocated:', round(torch.cuda.memory_allocated(0)/1024**3,1), 'GB')\n",
    "    print('Cached:   ', round(torch.cuda.memory_reserved(0)/1024**3,1), 'GB')\n",
    "\n",
    "#force cpu\n",
    "#device = torch.device(\"cpu\")\n",
    "print('Using device:', device)"
   ]
  },
  {
   "cell_type": "markdown",
   "metadata": {},
   "source": [
    "**Converter cada uma das moléculas num grafo**\n",
    "\n",
    "A representação de um grafo pode ser feita convertendo uma molécula (rdkit.chem.mol) para uma instância torch_geometric.data.Data do Pytorch Geometric.\n",
    "\n",
    "- Podemos utilizar as propriedades de cada molécula do dataset, juntamente com outras fornecidas pela biblioteca rdkit.chem.mol.\n",
    "- Iterar pelos átomos e adicioná-los num vetor que será convertido para um tensor PyTorch.\n",
    "- Depois iterar pelas ligações, sendo que as extremidades vão para a lista edge_index, enquanto que os vetores das ligações vão para a edge_attr.\n",
    "- Após a conversão destas listas para tensores e de ordenar os índices temos os dados necessários para criar a instância Data.\n",
    "\n",
    "<a href=\"https://pytorch-geometric.readthedocs.io/en/latest/_modules/torch_geometric/utils/smiles.html\">https://pytorch-geometric.readthedocs.io/en/latest/_modules/torch_geometric/utils/smiles.html</a>"
   ]
  },
  {
   "cell_type": "code",
   "execution_count": 57,
   "metadata": {},
   "outputs": [],
   "source": [
    "atom_characteristics = {\n",
    "    #RDKIT.CHEM.MOL CHARACTERISTICS\n",
    "    'atomic_num': list(range(0, 119)),\n",
    "    'chirality': ['CHI_UNSPECIFIED','CHI_TETRAHEDRAL_CW','CHI_TETRAHEDRAL_CCW','CHI_OTHER','CHI_TETRAHEDRAL','CHI_ALLENE','CHI_SQUAREPLANAR','CHI_TRIGONALBIPYRAMIDAL','CHI_OCTAHEDRAL'],\n",
    "    'degree': list(range(0, 11)),\n",
    "    'formal_charge': list(range(-5, 7)),\n",
    "    'num_hs': list(range(0, 9)),\n",
    "    'num_radical_electrons': list(range(0, 5)),\n",
    "    'hybridization': ['UNSPECIFIED','S','SP','SP2','SP3','SP3D','SP3D2','OTHER'],\n",
    "    'is_aromatic': [False, True],\n",
    "    'is_in_ring': [False, True],\n",
    "\n",
    "    #DATASET CHARACTERISTICS\n",
    "    'NR-AR':[0.0, 1.0],\n",
    "    'NR-AR-LBD':[0.0, 1.0],\n",
    "    'NR-AhR':[0.0, 1.0],\n",
    "    'NR-Aromatase':[0.0, 1.0],\n",
    "    'NR-ER':[0.0, 1.0],\n",
    "    'NR-ER-LBD':[0.0, 1.0],\n",
    "    'NR-PPAR-gamma':[0.0, 1.0]\n",
    "}\n",
    "\n",
    "bond_characteristics= {\n",
    "    #RDKIT.CHEM.MOL CHARACTERISTICS\n",
    "    'bond_type': ['UNSPECIFIED','SINGLE','DOUBLE','TRIPLE','QUADRUPLE','QUINTUPLE','HEXTUPLE','ONEANDAHALF','TWOANDAHALF','THREEANDAHALF','FOURANDAHALF','FIVEANDAHALF','AROMATIC','IONIC','HYDROGEN','THREECENTER','DATIVEONE','DATIVE','DATIVEL','DATIVER','OTHER','ZERO'],\n",
    "    'stereo': ['STEREONONE','STEREOANY','STEREOZ','STEREOE','STEREOCIS','STEREOTRANS'],\n",
    "    'is_conjugated': [False, True],\n",
    "}"
   ]
  },
  {
   "cell_type": "markdown",
   "metadata": {},
   "source": [
    "função molecule_to_graph(strsmiles:string, label:double->SR-p53,mol:RDkit.Chem.Mol)"
   ]
  },
  {
   "cell_type": "code",
   "execution_count": 58,
   "metadata": {},
   "outputs": [],
   "source": [
    "from torch_geometric.data import Data\n",
    "\n",
    "def molecule_to_graph(strsmiles,label,mol):\n",
    "    if(\"H\" in strsmiles):\n",
    "        mol = Chem.AddHs(mol)\n",
    "    xs = []\n",
    "    for atom in mol.GetAtoms():\n",
    "        row = []\n",
    "        row.append(atom_characteristics['atomic_num'].index(atom.GetAtomicNum()))\n",
    "        row.append(atom_characteristics['chirality'].index(str(atom.GetChiralTag())))\n",
    "        row.append(atom_characteristics['degree'].index(atom.GetTotalDegree()))\n",
    "        row.append(atom_characteristics['formal_charge'].index(atom.GetFormalCharge()))\n",
    "        row.append(atom_characteristics['num_hs'].index(atom.GetTotalNumHs()))\n",
    "        row.append(atom_characteristics['num_radical_electrons'].index(atom.GetNumRadicalElectrons()))\n",
    "        row.append(atom_characteristics['hybridization'].index(str(atom.GetHybridization())))\n",
    "        row.append(atom_characteristics['is_aromatic'].index(atom.GetIsAromatic()))\n",
    "        row.append(atom_characteristics['is_in_ring'].index(atom.IsInRing()))\n",
    "        row.append(atom_characteristics['NR-AR'].index(getAtrValue('NR-AR',strsmiles)))\n",
    "        row.append(atom_characteristics['NR-AhR'].index(getAtrValue('NR-AhR',strsmiles)))\n",
    "        row.append(atom_characteristics['NR-Aromatase'].index(getAtrValue('NR-Aromatase',strsmiles)))\n",
    "        row.append(atom_characteristics['NR-ER'].index(getAtrValue('NR-ER',strsmiles)))\n",
    "        row.append(atom_characteristics['NR-ER-LBD'].index(getAtrValue('NR-ER-LBD',strsmiles)))\n",
    "        row.append(atom_characteristics['NR-PPAR-gamma'].index(getAtrValue('NR-PPAR-gamma',strsmiles)))\n",
    "        xs.append(row)\n",
    "    \n",
    "    x = torch.tensor(xs, dtype=torch.long).view(-1, 15) # reshape (nº atomos, nº features) (-1 valor inferido)\n",
    "\n",
    "    edge_indices, edge_attrs = [], []\n",
    "    for bond in mol.GetBonds():\n",
    "        i = bond.GetBeginAtomIdx()\n",
    "        j = bond.GetEndAtomIdx()\n",
    "\n",
    "        e = []\n",
    "        e.append(bond_characteristics['bond_type'].index(str(bond.GetBondType())))\n",
    "        e.append(bond_characteristics['stereo'].index(str(bond.GetStereo())))\n",
    "        e.append(bond_characteristics['is_conjugated'].index(bond.GetIsConjugated()))\n",
    "\n",
    "        edge_indices += [[i, j], [j, i]]\n",
    "        edge_attrs += [e, e]\n",
    "        \n",
    "    edge_index = torch.tensor(edge_indices)\n",
    "    edge_index = edge_index.t().to(torch.long).view(2, -1)\n",
    "    edge_attr = torch.tensor(edge_attrs, dtype=torch.long).view(-1, 3)  # reshape (nº ligacoes, nº features) (-1 valor inferido)\n",
    "\n",
    "    if edge_index.numel() > 0:  # Sort indices.\n",
    "        perm = (edge_index[0] * x.size(0) + edge_index[1]).argsort()\n",
    "        edge_index, edge_attr = edge_index[:, perm], edge_attr[perm]\n",
    "\n",
    "    return Data(x=x, edge_index=edge_index, edge_attr=edge_attr, y=label, smiles=strsmiles)    "
   ]
  }
 ],
 "metadata": {
  "kernelspec": {
   "display_name": "DL2024",
   "language": "python",
   "name": "python3"
  },
  "language_info": {
   "codemirror_mode": {
    "name": "ipython",
    "version": 3
   },
   "file_extension": ".py",
   "mimetype": "text/x-python",
   "name": "python",
   "nbconvert_exporter": "python",
   "pygments_lexer": "ipython3",
   "version": "3.10.13"
  }
 },
 "nbformat": 4,
 "nbformat_minor": 2
}
