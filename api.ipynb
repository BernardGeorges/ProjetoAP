{
 "cells": [
  {
   "cell_type": "code",
   "execution_count": 1,
   "metadata": {},
   "outputs": [
    {
     "name": "stderr",
     "output_type": "stream",
     "text": [
      "Skipped loading modules with pytorch-lightning dependency, missing a dependency. No module named 'pytorch_lightning'\n",
      "Skipped loading some Jax models, missing a dependency. No module named 'jax'\n"
     ]
    }
   ],
   "source": [
    "from deepmol.loaders.loaders import CSVLoader\n",
    "import pandas as pd\n",
    "from deepmol.imbalanced_learn import RandomUnderSampler\n",
    "from deepmol.splitters.splitters import SingletaskStratifiedSplitter\n",
    "from copy import deepcopy\n",
    "from deepmol.models import SklearnModel\n",
    "from deepmol.imbalanced_learn import RandomUnderSampler"
   ]
  },
  {
   "cell_type": "code",
   "execution_count": 2,
   "metadata": {},
   "outputs": [
    {
     "name": "stderr",
     "output_type": "stream",
     "text": [
      "[13:52:53] WARNING: not removing hydrogen atom without neighbors\n"
     ]
    },
    {
     "name": "stdout",
     "output_type": "stream",
     "text": [
      "2024-05-31 13:52:54,590 — INFO — Assuming classification since there are less than 10 unique y values. If otherwise, explicitly set the mode to 'regression'!\n"
     ]
    }
   ],
   "source": [
    "ds = pd.read_csv('data/tox21.csv')\n",
    "ds.dropna(subset=['SR-p53'],inplace=True)\n",
    "ds.fillna(0, inplace=True)\n",
    "ds.drop('mol_id', axis=1, inplace=True)\n",
    "ds.to_csv(\"data/deepmol_dataset.csv\", sep=',', index=True,index_label=\"id\", encoding='utf-8')\n",
    "\n",
    "loader = CSVLoader(dataset_path='data/deepmol_dataset.csv',smiles_field='smiles',id_field='id',labels_fields=['SR-p53'],features_fields=['NR-AR','NR-AR-LBD','NR-AhR','NR-Aromatase','NR-ER','NR-ER-LBD','NR-PPAR-gamma','SR-ARE','SR-ATAD5','SR-HSE','SR-MMP'],shard_size=6774,mode='auto')\n",
    "dataset = loader.create_dataset()\n",
    "\n",
    "d3 = deepcopy(dataset)\n",
    "sampler = RandomUnderSampler(sampling_strategy=0.75, random_state=123, replacement=True)\n",
    "d3 = sampler.sample(d3)\n",
    "splitter = SingletaskStratifiedSplitter()\n",
    "train_dataset, valid_dataset, test_dataset = splitter.train_valid_test_split(dataset=d3, frac_train=0.7,frac_valid=0.15, frac_test=0.15)"
   ]
  },
  {
   "cell_type": "code",
   "execution_count": 3,
   "metadata": {},
   "outputs": [
    {
     "name": "stderr",
     "output_type": "stream",
     "text": [
      "c:\\Users\\joaop\\miniconda3\\envs\\mydeep\\lib\\site-packages\\deepmol\\compound_featurization\\__init__.py:20: UserWarning: Mol2Vec not available. Please install it to use it. (pip install git+https://github.com/samoturk/mol2vec#egg=mol2vec)\n",
      "  warnings.warn(\"Mol2Vec not available. Please install it to use it. \"\n"
     ]
    }
   ],
   "source": [
    "import random\n",
    "from rdkit.Chem import rdMolDescriptors\n",
    "from deepmol.compound_featurization import MorganFingerprint\n",
    "import numpy as np\n",
    "\n",
    "model = SklearnModel.load('rf_model')\n",
    "\n",
    "def getFeatureImportance():\n",
    "    mol_number = random.randint(0,len(test_dataset)-1)\n",
    "\n",
    "    prediction = model.predict(test_dataset)[mol_number]\n",
    "    actual_value = test_dataset.y[mol_number]\n",
    "    print('Prediction: ', prediction)\n",
    "    print('Actual Value: ', actual_value)\n",
    "    smi = test_dataset.mols[mol_number]\n",
    "    morgan_fp = MorganFingerprint()\n",
    "    fingerprint = morgan_fp._featurize(smi)\n",
    "\n",
    "    activated_bits = np.where(fingerprint == 1)[0]\n",
    "    activated_bits = list(activated_bits)\n",
    "    img = MorganFingerprint().draw_bits(smi, activated_bits)\n",
    "\n",
    "    return smi,img"
   ]
  },
  {
   "cell_type": "code",
   "execution_count": 4,
   "metadata": {},
   "outputs": [
    {
     "name": "stdout",
     "output_type": "stream",
     "text": [
      " * Serving Flask app '__main__'\n",
      " * Debug mode: off\n"
     ]
    },
    {
     "name": "stderr",
     "output_type": "stream",
     "text": [
      "WARNING: This is a development server. Do not use it in a production deployment. Use a production WSGI server instead.\n",
      " * Running on http://127.0.0.1:5000\n",
      "Press CTRL+C to quit\n",
      "127.0.0.1 - - [31/May/2024 13:53:08] \"GET / HTTP/1.1\" 200 -\n"
     ]
    },
    {
     "name": "stdout",
     "output_type": "stream",
     "text": [
      "Prediction:  0.0\n",
      "Actual Value:  0.0\n"
     ]
    },
    {
     "name": "stderr",
     "output_type": "stream",
     "text": [
      "127.0.0.1 - - [31/May/2024 13:53:11] \"GET / HTTP/1.1\" 200 -\n"
     ]
    },
    {
     "name": "stdout",
     "output_type": "stream",
     "text": [
      "Prediction:  0.0\n",
      "Actual Value:  1.0\n"
     ]
    }
   ],
   "source": [
    "from flask import Flask\n",
    "from flask_cors import CORS\n",
    "from rdkit import Chem \n",
    "import re\n",
    "app = Flask(__name__)\n",
    "CORS(app)\n",
    "\n",
    "@app.route('/')\n",
    "def getfeatures():\n",
    "    smi,img = getFeatureImportance()\n",
    "    smiles = Chem.MolToSmiles(smi)\n",
    "    origin_smiles = str(smiles)\n",
    "    smiles = re.sub(r'[\\\\\\/\\+\\=\\[\\]\\-\\#]', '_', smiles)\n",
    "    img.save(\"feature_importance/\"+str(smiles)+\".png\")\n",
    "    return {\"name\":origin_smiles,\"file\":smiles}\n",
    "\n",
    "if __name__ == '__main__':\n",
    "    app.run()"
   ]
  }
 ],
 "metadata": {
  "language_info": {
   "name": "python"
  }
 },
 "nbformat": 4,
 "nbformat_minor": 2
}
