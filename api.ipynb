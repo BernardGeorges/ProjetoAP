{
 "cells": [
  {
   "cell_type": "code",
   "execution_count": 5,
   "metadata": {},
   "outputs": [],
   "source": [
    "from deepmol.loaders.loaders import CSVLoader\n",
    "import pandas as pd\n",
    "from deepmol.imbalanced_learn import RandomUnderSampler\n",
    "from deepmol.splitters.splitters import SingletaskStratifiedSplitter\n",
    "from copy import deepcopy\n",
    "from deepmol.models import SklearnModel\n",
    "from deepmol.imbalanced_learn import RandomUnderSampler"
   ]
  },
  {
   "cell_type": "code",
   "execution_count": 6,
   "metadata": {},
   "outputs": [
    {
     "name": "stderr",
     "output_type": "stream",
     "text": [
      "[15:32:36] WARNING: not removing hydrogen atom without neighbors\n"
     ]
    },
    {
     "name": "stdout",
     "output_type": "stream",
     "text": [
      "2024-05-18 15:32:37,070 — INFO — Assuming classification since there are less than 10 unique y values. If otherwise, explicitly set the mode to 'regression'!\n"
     ]
    }
   ],
   "source": [
    "ds = pd.read_csv('data/tox21.csv')\n",
    "ds.dropna(subset=['SR-p53'],inplace=True)\n",
    "ds.fillna(0, inplace=True)\n",
    "ds.drop('mol_id', axis=1, inplace=True)\n",
    "ds.to_csv(\"data/deepmol_dataset.csv\", sep=',', index=True,index_label=\"id\", encoding='utf-8')\n",
    "\n",
    "loader = CSVLoader(dataset_path='data/deepmol_dataset.csv',smiles_field='smiles',id_field='id',labels_fields=['SR-p53'],features_fields=['NR-AR','NR-AR-LBD','NR-AhR','NR-Aromatase','NR-ER','NR-ER-LBD','NR-PPAR-gamma','SR-ARE','SR-ATAD5','SR-HSE','SR-MMP'],shard_size=6774,mode='auto')\n",
    "dataset = loader.create_dataset()\n",
    "\n",
    "d3 = deepcopy(dataset)\n",
    "sampler = RandomUnderSampler(sampling_strategy=0.75, random_state=123, replacement=True)\n",
    "d3 = sampler.sample(d3)\n",
    "splitter = SingletaskStratifiedSplitter()\n",
    "train_dataset, valid_dataset, test_dataset = splitter.train_valid_test_split(dataset=d3, frac_train=0.7,frac_valid=0.15, frac_test=0.15)"
   ]
  },
  {
   "cell_type": "code",
   "execution_count": 7,
   "metadata": {},
   "outputs": [],
   "source": [
    "import random\n",
    "from rdkit.Chem import rdMolDescriptors\n",
    "from deepmol.compound_featurization import MorganFingerprint\n",
    "\n",
    "model = SklearnModel.load('rf_model')\n",
    "\n",
    "def getFeatureImportance():\n",
    "    mol_number = random.randint(0,len(test_dataset)-1)\n",
    "\n",
    "    prediction = model.predict(test_dataset)[mol_number]\n",
    "    actual_value = test_dataset.y[mol_number]\n",
    "    print('Prediction: ', prediction)\n",
    "    print('Actual Value: ', actual_value)\n",
    "    smi = test_dataset.mols[mol_number]\n",
    "\n",
    "    morgan_fp = MorganFingerprint()\n",
    "    bit_info = {}\n",
    "    fp = rdMolDescriptors.GetMorganFingerprintAsBitVect(\n",
    "    smi, \n",
    "    morgan_fp.radius, \n",
    "    nBits=morgan_fp.size, \n",
    "    useChirality=morgan_fp.chiral, \n",
    "    useBondTypes=morgan_fp.bonds, \n",
    "    useFeatures=morgan_fp.features, \n",
    "    bitInfo=bit_info\n",
    "    )\n",
    "    active_bits = list(bit_info.keys())\n",
    "    img = MorganFingerprint().draw_bits(smi,active_bits)\n",
    "    return smi,img"
   ]
  },
  {
   "cell_type": "code",
   "execution_count": 8,
   "metadata": {},
   "outputs": [
    {
     "name": "stdout",
     "output_type": "stream",
     "text": [
      " * Serving Flask app '__main__'\n",
      " * Debug mode: off\n"
     ]
    },
    {
     "name": "stderr",
     "output_type": "stream",
     "text": [
      "WARNING: This is a development server. Do not use it in a production deployment. Use a production WSGI server instead.\n",
      " * Running on http://127.0.0.1:5000\n",
      "Press CTRL+C to quit\n",
      "127.0.0.1 - - [18/May/2024 15:32:56] \"GET / HTTP/1.1\" 200 -\n"
     ]
    },
    {
     "name": "stdout",
     "output_type": "stream",
     "text": [
      "Prediction:  1.0\n",
      "Actual Value:  1.0\n"
     ]
    }
   ],
   "source": [
    "from flask import Flask\n",
    "from flask_cors import CORS\n",
    "from rdkit import Chem \n",
    "import re\n",
    "app = Flask(__name__)\n",
    "CORS(app)\n",
    "\n",
    "@app.route('/')\n",
    "def getfeatures():\n",
    "    smi,img = getFeatureImportance()\n",
    "    smiles = Chem.MolToSmiles(smi)\n",
    "    origin_smiles = str(smiles)\n",
    "    smiles = re.sub(r'[\\\\\\/\\+\\=\\[\\]\\-\\#]', '_', smiles)\n",
    "    img.save(\"feature_importance/\"+str(smiles)+\".png\")\n",
    "    return {\"name\":origin_smiles,\"file\":smiles}\n",
    "\n",
    "if __name__ == '__main__':\n",
    "    app.run()"
   ]
  }
 ],
 "metadata": {
  "language_info": {
   "name": "python"
  }
 },
 "nbformat": 4,
 "nbformat_minor": 2
}
